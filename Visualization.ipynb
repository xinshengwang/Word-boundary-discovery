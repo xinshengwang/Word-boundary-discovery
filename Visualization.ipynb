{
 "cells": [
  {
   "cell_type": "code",
   "execution_count": 37,
   "metadata": {},
   "outputs": [],
   "source": [
    "import torch\n",
    "import torch.nn as nn\n",
    "import matplotlib.pyplot as plt\n",
    "import numpy as np\n",
    "import argparse\n",
    "import random\n",
    "from utils.config import cfg\n",
    "\n",
    "from models import WBDNet\n",
    "from step import train_wbd\n",
    "\n",
    "import torch.utils.data as data\n",
    "from torch.autograd import Variable\n",
    "from torch.utils.data.dataloader import default_collate\n",
    "\n",
    "import os\n",
    "import sys\n",
    "import json\n",
    "\n",
    "random.seed(cfg.manualSeed)\n",
    "np.random.seed(cfg.manualSeed)\n",
    "torch.manual_seed(cfg.manualSeed)\n",
    "torch.cuda.manual_seed(cfg.manualSeed)\n",
    "\n",
    "torch.cuda.manual_seed(cfg.manualSeed)  \n",
    "torch.cuda.manual_seed_all(cfg.manualSeed)\n",
    "torch.backends.cudnn.deterministic = True\n",
    "torch.backends.cudnn.benchmark = False\n",
    "\n",
    "def worker_init_fn(worker_id):   \n",
    "    np.random.seed(cfg.manualSeed + worker_id)"
   ]
  },
  {
   "cell_type": "code",
   "execution_count": 80,
   "metadata": {},
   "outputs": [],
   "source": [
    "parser = argparse.ArgumentParser(description='Training the model for word boundary discovery')\n",
    "\n",
    "parser.add_argument('--data_path', type=str, default= 'x:/staff-bulk/ewi/insy/MMC/xinsheng/data/coco/audio/',\n",
    "                    help='directory of database')   \n",
    "parser.add_argument('--save_root',type=str,default='outputs/l3_w4',\n",
    "                    help='path for saving model and results')    \n",
    "# parameters\n",
    "parser.add_argument(\"--start_epoch\",type=int,default=100,\n",
    "                    help='resume the pertra')\n",
    "parser.add_argument(\"--epoch\", type=int, default=100,\n",
    "                    help=\"max epoch\")\n",
    "parser.add_argument(\"--optim\", type=str, default=\"adam\",\n",
    "                    help=\"training optimizer\", choices=[\"sgd\", \"adam\"])\n",
    "parser.add_argument('--batch_size', default=64, type=int, \n",
    "                    help='mini-batch size')\n",
    "parser.add_argument('--lr', type=float, default=0.001, \n",
    "                    help='initial learning rate')\n",
    "parser.add_argument('--lr_decay', default=50, type=int, metavar='LRDECAY',\n",
    "                    help='Divide the learning rate by 10 every lr_decay epochs')\n",
    "parser.add_argument('--momentum', default=0.9, type=float, metavar='M',\n",
    "                    help='momentum')\n",
    "parser.add_argument('--weight-decay', '--wd', default=1e-4, type=float,\n",
    "                    help='weight decay (default: 1e-4)')  \n",
    "parser.add_argument('--bce-weight', '--bw', default=50, type=float,\n",
    "                    help='weight to face the data unblance')  \n",
    "\n",
    "# evaluation\n",
    "parser.add_argument('--only-val',default=False,type=bool,\n",
    "                    help='True for evaluation with pre-trained model')\n",
    "\n",
    "parser.add_argument('--BK_train',default=1,type=int,\n",
    "                    help='neighbor number of the ground-truth boundary that considered as the boundary during training ')\n",
    "parser.add_argument('--BK',default=0,type=int,\n",
    "                    help='predicted boundary is considered to be correct is it is whiin BK frames of the ground-truth boundary')\n",
    "\n",
    "\n",
    "# mel parameter\n",
    "parser.add_argument('--max-wav-value', default=32768.0, type=float,\n",
    "                        help='Maximum audiowave value')\n",
    "parser.add_argument('--sampling-rate', default=16000, type=int,\n",
    "                    help='Sampling rate')\n",
    "parser.add_argument('--filter-length', default=800, type=int,\n",
    "                    help='Filter length')\n",
    "parser.add_argument('--hop-length', default=200, type=int,\n",
    "                    help='Hop (stride) length')\n",
    "parser.add_argument('--win-length', default=800, type=int,\n",
    "                    help='Window length')\n",
    "parser.add_argument('--mel-fmin', default=0.0, type=float,\n",
    "                    help='Minimum mel frequency')\n",
    "parser.add_argument('--mel-fmax', default=8000.0, type=float,\n",
    "                    help='Maximum mel frequency')\n",
    "parser.add_argument('--n-mel-channels', default=80, type=int,\n",
    "                    help='Number of bins in mel-spectrograms')\n",
    "\n",
    "\n",
    "args = parser.parse_args(args=[])\n",
    "# args = parser.parse_args()\n"
   ]
  },
  {
   "cell_type": "code",
   "execution_count": 97,
   "metadata": {},
   "outputs": [],
   "source": [
    "\n",
    "def pad_collate(batch):\n",
    "    max_input_len = float('-inf')  \n",
    "    \n",
    "    for elem in batch:\n",
    "        mel, target, length,cap_ID = elem\n",
    "        max_input_len = max_input_len if max_input_len > length else length       \n",
    "\n",
    "    for i, elem in enumerate(batch):\n",
    "        mel, target, length,cap_ID = elem\n",
    "        input_length = mel.shape[1]\n",
    "        input_dim = mel.shape[0]\n",
    "\n",
    "        pad_mel = np.zeros((input_dim,max_input_len), dtype=np.float)\n",
    "        pad_mel[:input_dim, :input_length] = mel       \n",
    "\n",
    "        pad_target = np.zeros(max_input_len,dtype=np.float)\n",
    "        mask = np.zeros(max_input_len,dtype=np.float)\n",
    "        pad_target[:input_length] = target\n",
    "        mask[:input_length] = 1.0\n",
    "        pad_mel = pad_mel.transpose(1,0)\n",
    "        batch[i] = (pad_mel, pad_target, mask, length,cap_ID)\n",
    "        # print('feature.shape: ' + str(feature.shape))\n",
    "        # print('trn.shape: ' + str(trn.shape))\n",
    "\n",
    "    batch.sort(key=lambda x: x[-2], reverse=True)\n",
    "\n",
    "    return default_collate(batch)\n",
    "\n",
    "\n",
    "class WBD_Data(data.DataLoader):\n",
    "    def __init__(self, data_path,args,split='train'):\n",
    "        self.args = args\n",
    "        self.split = split\n",
    "        if split=='train':\n",
    "            self.data_dir = os.path.join(data_path,'train2014')\n",
    "        else:\n",
    "            self.data_dir = os.path.join(data_path,'val2014')\n",
    "        self.filenames = self.load_filelnames(self.data_dir)[:64]\n",
    "\n",
    "    def load_filelnames(self,data_dir):\n",
    "        if self.split == 'train':\n",
    "            path = data_dir + '/filenames/' + 'Bruce_1.0_None.json'\n",
    "        else:\n",
    "            path = data_dir + '/filenames/' + 'Bruce_1.0_None_uniqueImgID.json'\n",
    "        with open(path,'rb') as f:\n",
    "            data = json.load(f)\n",
    "        return data\n",
    "\n",
    "    def load_json(self,path):\n",
    "        with open(path,'rb') as f:\n",
    "            data = json.load(f)\n",
    "        return data\n",
    "\n",
    "    def load_target(self,wav_duration,mel_len,timecode):\n",
    "        target = np.zeros(mel_len)\n",
    "        times = []\n",
    "        for item in timecode:\n",
    "            if 'WORD' in item:\n",
    "                time = item[0]\n",
    "                times.append(time)\n",
    "        times = np.array(times)\n",
    "\n",
    "        positions = times * mel_len / (wav_duration*1000)\n",
    "        positions = np.around(positions).astype(np.int32)\n",
    "        if self.split == 'train':\n",
    "            if self.args.BK_train == 0:\n",
    "                target[positions] = 1\n",
    "            else:\n",
    "                pad_positions = list(positions)\n",
    "                \n",
    "                for i in range(self.args.BK_train):\n",
    "                    k = i+1\n",
    "                    positions_right = positions[:-1] + k\n",
    "                    positions_left = positions[1:] - k\n",
    "                    pad_positions = pad_positions + list(positions_left) + list(positions_right)\n",
    "                target[pad_positions] = 1\n",
    "        else:\n",
    "            if self.args.BK == 0:\n",
    "                target[positions] = 1\n",
    "            else:\n",
    "                pad_positions = list(positions)\n",
    "                for i in range(self.args.BK):\n",
    "                    k = i+1\n",
    "                    positions_right = positions[:-1] + k\n",
    "                    positions_left = positions[1:] - k\n",
    "                    pad_positions = pad_positions + list(positions_left) + list(positions_right)\n",
    "                target[pad_positions] = 1\n",
    "        return target\n",
    "\n",
    "    def __getitem__(self,index):\n",
    "        data_dict = self.filenames[index]\n",
    "        wav_name = data_dict['wavFilename']\n",
    "        mel_name = wav_name.replace('.wav','.npy')\n",
    "        mel_path = self.data_dir + '/mel/' + mel_name \n",
    "        mel =  np.load(mel_path,allow_pickle=True)\n",
    "        json_path = self.data_dir + '/json/' + wav_name.replace('.wav','.json')\n",
    "        json_dict = self.load_json(json_path)\n",
    "\n",
    "        wav_duration = json_dict['duration']\n",
    "        mel_len = mel.shape[1]\n",
    "        timecode = json_dict['timecode']\n",
    "        cap_ID = json_dict['captionID']\n",
    "\n",
    "        target = self.load_target(wav_duration,mel_len,timecode)\n",
    "        \n",
    "        return mel, target, mel_len, cap_ID\n",
    "\n",
    "\n",
    "    def __len__(self):\n",
    "        return len(self.filenames)"
   ]
  },
  {
   "cell_type": "code",
   "execution_count": 81,
   "metadata": {},
   "outputs": [],
   "source": [
    "dataset_val = WBD_Data(args.data_path,args,'val')\n",
    "val_loader = torch.utils.data.DataLoader(\n",
    "        dataset_val, batch_size=cfg.WBDNet.batch_size,\n",
    "        drop_last=False, shuffle=False,collate_fn=pad_collate,worker_init_fn=worker_init_fn) "
   ]
  },
  {
   "cell_type": "code",
   "execution_count": 82,
   "metadata": {},
   "outputs": [],
   "source": [
    "model = WBDNet.RNN(cfg.WBDNet.input_size, cfg.WBDNet.batch_size, cfg.WBDNet.hidden_size)"
   ]
  },
  {
   "cell_type": "code",
   "execution_count": 118,
   "metadata": {},
   "outputs": [],
   "source": [
    "def get_predicted_boundary(predict,k):\n",
    "    stride = 2*k+1\n",
    "    if stride == 1:\n",
    "        stride = 3\n",
    "    pading = int((stride-1)/2)\n",
    "    # pdb.set_trace()\n",
    "    max_pool = nn.MaxPool1d(stride,1,padding=pading).cuda()\n",
    "    ext_predict = predict.unsqueeze(1)\n",
    "    max_predict = max_pool(ext_predict).squeeze()\n",
    "    if max_predict.shape[-1]<ext_predict.shape[-1]:\n",
    "        mid = torch.zeros(ext_predict.shape).squeeze()\n",
    "        mid[:,:max_predict.shape[-1]] = max_predict\n",
    "        max_predict = mid\n",
    "    max_mask = ((predict.to('cpu') - max_predict.to('cpu')) >= 0).int()\n",
    "    sub_mask = max_mask -1\n",
    "    predict = predict.to('cpu').detach() \n",
    "    predict = predict * max_mask + sub_mask\n",
    "    return predict"
   ]
  },
  {
   "cell_type": "markdown",
   "metadata": {},
   "source": [
    "Transfer wav to mel"
   ]
  },
  {
   "cell_type": "code",
   "execution_count": 44,
   "metadata": {},
   "outputs": [],
   "source": [
    "def evaluation(model,val_loader,args):\n",
    "    model.eval()\n",
    "    \n",
    "    exp_dir = args.save_root \n",
    "    model.cuda()\n",
    "    model.load_state_dict(torch.load(\"%s/models/WBDNet_%d.pth\" % (exp_dir,args.start_epoch)))\n",
    "    print('loaded parametres from epoch %d' % args.start_epoch)\n",
    "    \n",
    "    \n",
    "    total_retrieved = 0.0\n",
    "    total_gt = 0.0\n",
    "    total = 0.0\n",
    "    TP = 0.0\n",
    "    \n",
    "\n",
    "    for i, (audio,target,mask,length,cap_ID) in enumerate(val_loader):\n",
    "        audio = audio.float().cuda()\n",
    "        target = target.int()\n",
    "        mask = mask.int()\n",
    "        output = model(audio)\n",
    "        # if i==0 :\n",
    "        #     pdb.set_trace()\n",
    "        predict = get_predicted_boundary(output, args.BK)\n",
    "        predict_label = (predict > 0.5) * mask\n",
    "        # pdb.set_trace()\n",
    "        total_retrieved += predict_label.sum()\n",
    "        total_gt += ((target.sum()) + args.batch_size * 2 * args.BK) / (args.BK*2 + 1)\n",
    "       \n",
    "        total += mask.sum()\n",
    "        # pdb.set_trace()\n",
    "        TP += ((predict_label == target) * target).sum()\n",
    "    Recall = TP / total_gt\n",
    "    P = TP / total_retrieved\n",
    "    F1 = 2*Recall*P/(Recall + P)\n",
    "\n",
    "    metrics={}\n",
    "    metrics['recall'] = Recall\n",
    "    metrics['precision'] = P\n",
    "    metrics['F1'] = F1    \n",
    "    info = \"Recall {:.2%} | Precision {:.2%} | F1 {:.2%}\\n\".format(Recall,P,F1)\n",
    "    print(info)"
   ]
  },
  {
   "cell_type": "code",
   "execution_count": 45,
   "metadata": {},
   "outputs": [
    {
     "name": "stdout",
     "output_type": "stream",
     "text": [
      "loaded parametres from epoch 100\n",
      "Recall 95.12% | Precision 83.77% | F1 89.09%\n",
      "\n"
     ]
    }
   ],
   "source": [
    "evaluation(model,val_loader,args)"
   ]
  },
  {
   "cell_type": "code",
   "execution_count": 119,
   "metadata": {},
   "outputs": [
    {
     "name": "stdout",
     "output_type": "stream",
     "text": [
      "loaded parametres from epoch 100\n"
     ]
    }
   ],
   "source": [
    "model.eval()\n",
    "    \n",
    "exp_dir = args.save_root \n",
    "model.cuda()\n",
    "model.load_state_dict(torch.load(\"%s/models/WBDNet_%d.pth\" % (exp_dir,args.start_epoch)))\n",
    "print('loaded parametres from epoch %d' % args.start_epoch)\n",
    "\n",
    "\n",
    "total_retrieved = 0.0\n",
    "total_gt = 0.0\n",
    "total = 0.0\n",
    "TP = 0.0\n",
    "\n",
    "results = []\n",
    "for i, (audio,target,mask,length,cap_ID) in enumerate(val_loader):\n",
    "    result = {}\n",
    "    audio = audio.float().cuda()\n",
    "    target = target.int()\n",
    "    mask = mask.int()\n",
    "    output = model(audio)\n",
    "    # if i==0 :\n",
    "    #     pdb.set_trace()\n",
    "    predict = get_predicted_boundary(output, args.BK)\n",
    "    predict_label = (predict > 0.5) * mask\n",
    "    result['cap_id'] = cap_ID\n",
    "    result['mel'] = audio.cpu()\n",
    "    result['length'] = length\n",
    "    result['predict'] = predict_label\n",
    "    result['ground-truth'] = target\n",
    "    results.append(result)\n",
    "    \n",
    "\n",
    "   "
   ]
  },
  {
   "cell_type": "code",
   "execution_count": 128,
   "metadata": {},
   "outputs": [
    {
     "data": {
      "image/png": "[encoded data removed]",
      "text/plain": [
       "<Figure size 1440x72 with 1 Axes>"
      ]
     },
     "metadata": {},
     "output_type": "display_data"
    }
   ],
   "source": [
    "import librosa.display\n",
    "length = results[0]['length'][0]\n",
    "mel = results[0]['mel'][0].transpose(1,0).numpy()[:,:length]\n",
    "length = results[0]['length'][0]\n",
    "mel = mel[:,:length]\n",
    "plt.figure(figsize=(20,1))\n",
    "librosa.display.specshow(mel)\n",
    "plt.show()"
   ]
  },
  {
   "cell_type": "code",
   "execution_count": 129,
   "metadata": {},
   "outputs": [
    {
     "data": {
      "image/png": "[encoded data removed]",
      "text/plain": [
       "<Figure size 1440x72 with 1 Axes>"
      ]
     },
     "metadata": {},
     "output_type": "display_data"
    }
   ],
   "source": [
    "import matplotlib.pyplot as plt\n",
    "from matplotlib import cm\n",
    "position=np.where(target[0].numpy()==1)\n",
    "plt.figure(figsize=(20,1))\n",
    "plt.xticks(())#去掉坐标轴上的刻度\n",
    "plt.yticks(())#去掉坐标轴上的刻度\n",
    "plt.vlines(position,0, 2, colors = \"r\", linestyles = \"dashed\")\n",
    "#plt.savefig(path)\n",
    "plt.show()"
   ]
  },
  {
   "cell_type": "code",
   "execution_count": 130,
   "metadata": {},
   "outputs": [
    {
     "data": {
      "image/png": "[encoded data removed]",
      "text/plain": [
       "<Figure size 1440x72 with 1 Axes>"
      ]
     },
     "metadata": {},
     "output_type": "display_data"
    }
   ],
   "source": [
    "pre_position = np.where(predict_label[0].numpy()==1)\n",
    "plt.figure(figsize=(20,1))\n",
    "plt.xticks(())#去掉坐标轴上的刻度\n",
    "plt.yticks(())#去掉坐标轴上的刻度\n",
    "plt.vlines(pre_position,0, 2, colors = \"b\", linestyles = \"dashed\")\n",
    "#plt.savefig(path)\n",
    "plt.show()"
   ]
  },
  {
   "cell_type": "code",
   "execution_count": 125,
   "metadata": {},
   "outputs": [
    {
     "data": {
      "text/plain": [
       "tensor(4935)"
      ]
     },
     "execution_count": 125,
     "metadata": {},
     "output_type": "execute_result"
    }
   ],
   "source": [
    "cap_ID[0]"
   ]
  },
  {
   "cell_type": "code",
   "execution_count": 116,
   "metadata": {},
   "outputs": [
    {
     "data": {
      "text/plain": [
       "(array([  0,   4,  27,  38,  63,  67,  75,  80,  81, 100, 115, 118, 119,\n",
       "        140, 156, 157, 168, 169, 170, 212, 213, 214, 245, 246, 254, 255,\n",
       "        279, 280, 300, 301, 316, 317, 318], dtype=int64),)"
      ]
     },
     "execution_count": 116,
     "metadata": {},
     "output_type": "execute_result"
    }
   ],
   "source": [
    "pre_position"
   ]
  }
 ],
 "metadata": {
  "kernelspec": {
   "display_name": "Python 3",
   "language": "python",
   "name": "python3"
  },
  "language_info": {
   "codemirror_mode": {
    "name": "ipython",
    "version": 3
   },
   "file_extension": ".py",
   "mimetype": "text/x-python",
   "name": "python",
   "nbconvert_exporter": "python",
   "pygments_lexer": "ipython3",
   "version": "3.7.3"
  }
 },
 "nbformat": 4,
 "nbformat_minor": 2
}
